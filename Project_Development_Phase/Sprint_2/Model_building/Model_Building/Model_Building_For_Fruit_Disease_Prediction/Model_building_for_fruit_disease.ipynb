{
  "nbformat": 4,
  "nbformat_minor": 0,
  "metadata": {
    "colab": {
      "provenance": []
    },
    "kernelspec": {
      "name": "python3",
      "display_name": "Python 3"
    },
    "language_info": {
      "name": "python"
    }
  },
  "cells": [
    {
      "cell_type": "markdown",
      "source": [
        "## **Team ID: PNT2022TMID42380**\n",
        "\n",
        "## **Model_building_for_fruit_disease**"
      ],
      "metadata": {
        "id": "PLly-WChjGZ_"
      }
    },
    {
      "cell_type": "code",
      "source": [
        "from google.colab import drive\n",
        "drive.mount('/content/drive')\n",
        "cd/content/drive/d"
      ],
      "metadata": {
        "colab": {
          "base_uri": "https://localhost:8080/"
        },
        "id": "OKBms4TvkqBT",
        "outputId": "25bac459-d8a2-45c9-df47-eea73c5f4ca5"
      },
      "execution_count": 4,
      "outputs": [
        {
          "output_type": "stream",
          "name": "stdout",
          "text": [
            "Drive already mounted at /content/drive; to attempt to forcibly remount, call drive.mount(\"/content/drive\", force_remount=True).\n"
          ]
        }
      ]
    },
    {
      "cell_type": "code",
      "source": [
        "from keras.preprocessing.image import ImageDataGenerator\n",
        "train_datagen=ImageDataGenerator(rescale=1./255,shear_range=0.2,zoom_range=0.2,horizontal_flip=True)\n",
        "test_datagen=ImageDataGenerator(rescale=1)"
      ],
      "metadata": {
        "id": "Hp2cF4dBkN-i"
      },
      "execution_count": 6,
      "outputs": []
    },
    {
      "cell_type": "code",
      "source": [
        "x_train=train_datagen.flow_from_directory(r'/content/drive/MyDrive/Fertilizers_Recommendation_ System_For_Disease_ Prediction/Dataset Plant Disease/fruit-dataset/fruit-dataset/train',target_size=(128,128),batch_size=2,class_mode='categorical')\n",
        "x_test=test_datagen.flow_from_directory(r'/content/drive/MyDrive/Fertilizers_Recommendation_ System_For_Disease_ Prediction/Dataset Plant Disease/fruit-dataset/fruit-dataset/test',target_size=(128,128),batch_size=2,class_mode='categorical')\n"
      ],
      "metadata": {
        "colab": {
          "base_uri": "https://localhost:8080/"
        },
        "id": "0OymZLtxkba3",
        "outputId": "5e25ed83-1b63-4589-cd43-a77b0bc4e138"
      },
      "execution_count": 7,
      "outputs": [
        {
          "output_type": "stream",
          "name": "stdout",
          "text": [
            "Found 5389 images belonging to 6 classes.\n",
            "Found 1686 images belonging to 6 classes.\n"
          ]
        }
      ]
    },
    {
      "cell_type": "code",
      "source": [
        "from keras.models import Sequential\n",
        "from keras.layers import Dense\n",
        "from keras.layers import Convolution2D\n",
        "from keras.layers import MaxPooling2D\n",
        "from keras.layers import Flatten"
      ],
      "metadata": {
        "id": "0p9QahdzmLe_"
      },
      "execution_count": 8,
      "outputs": []
    },
    {
      "cell_type": "code",
      "source": [
        "model=Sequential()"
      ],
      "metadata": {
        "id": "vlXqCvkGmO2L"
      },
      "execution_count": 9,
      "outputs": []
    },
    {
      "cell_type": "code",
      "source": [
        "model.add(Convolution2D(32,(3,3),input_shape=(128,128,3),activation='relu'))"
      ],
      "metadata": {
        "id": "BokAz1Lml8iX"
      },
      "execution_count": 10,
      "outputs": []
    },
    {
      "cell_type": "code",
      "source": [
        "model.add(MaxPooling2D(pool_size=(2,2)))"
      ],
      "metadata": {
        "id": "kWdKbDR6mSTX"
      },
      "execution_count": 11,
      "outputs": []
    },
    {
      "cell_type": "code",
      "source": [
        "model.add(Flatten())"
      ],
      "metadata": {
        "id": "fKjw__zqmU80"
      },
      "execution_count": 12,
      "outputs": []
    },
    {
      "cell_type": "code",
      "source": [
        "model.add(Dense(units=40,kernel_initializer='uniform',activation='relu'))"
      ],
      "metadata": {
        "id": "vaYUKwgDmXvA"
      },
      "execution_count": 13,
      "outputs": []
    },
    {
      "cell_type": "code",
      "source": [
        "model.add(Dense(units=20,kernel_initializer='random_uniform',activation='relu'))"
      ],
      "metadata": {
        "id": "4BIbm8GnmZ-5"
      },
      "execution_count": 14,
      "outputs": []
    },
    {
      "cell_type": "code",
      "source": [
        "\n",
        "model.add(Dense(units=6,kernel_initializer='random_uniform',activation='softmax'))"
      ],
      "metadata": {
        "id": "fQ6sbBY7mcR9"
      },
      "execution_count": 15,
      "outputs": []
    },
    {
      "cell_type": "code",
      "source": [
        "model.compile(loss='categorical_crossentropy',optimizer=\"adam\",metrics=[\"accuracy\"])"
      ],
      "metadata": {
        "id": "dVX8UJDjmeit"
      },
      "execution_count": 16,
      "outputs": []
    },
    {
      "cell_type": "code",
      "source": [
        "model.fit(x_train,steps_per_epoch=89,epochs=20,validation_data=x_test,validation_steps=27)"
      ],
      "metadata": {
        "colab": {
          "base_uri": "https://localhost:8080/"
        },
        "id": "YeO_mvUYmhf9",
        "outputId": "32923454-de47-4e1b-83b9-72844f1c862b"
      },
      "execution_count": 17,
      "outputs": [
        {
          "output_type": "stream",
          "name": "stdout",
          "text": [
            "Epoch 1/20\n",
            "89/89 [==============================] - 57s 637ms/step - loss: 1.6232 - accuracy: 0.3820 - val_loss: 200.6426 - val_accuracy: 0.3148\n",
            "Epoch 2/20\n",
            "89/89 [==============================] - 56s 625ms/step - loss: 1.5795 - accuracy: 0.4101 - val_loss: 80.7767 - val_accuracy: 0.5185\n",
            "Epoch 3/20\n",
            "89/89 [==============================] - 53s 592ms/step - loss: 1.2562 - accuracy: 0.5281 - val_loss: 98.8578 - val_accuracy: 0.5741\n",
            "Epoch 4/20\n",
            "89/89 [==============================] - 52s 591ms/step - loss: 0.9710 - accuracy: 0.6461 - val_loss: 116.0324 - val_accuracy: 0.7222\n",
            "Epoch 5/20\n",
            "89/89 [==============================] - 50s 560ms/step - loss: 0.8659 - accuracy: 0.7022 - val_loss: 122.1503 - val_accuracy: 0.6852\n",
            "Epoch 6/20\n",
            "89/89 [==============================] - 50s 560ms/step - loss: 0.8562 - accuracy: 0.6404 - val_loss: 88.8771 - val_accuracy: 0.7222\n",
            "Epoch 7/20\n",
            "89/89 [==============================] - 47s 525ms/step - loss: 0.8441 - accuracy: 0.6854 - val_loss: 132.5130 - val_accuracy: 0.6481\n",
            "Epoch 8/20\n",
            "89/89 [==============================] - 47s 532ms/step - loss: 0.7126 - accuracy: 0.7022 - val_loss: 121.0580 - val_accuracy: 0.7407\n",
            "Epoch 9/20\n",
            "89/89 [==============================] - 45s 509ms/step - loss: 0.5704 - accuracy: 0.8034 - val_loss: 70.8708 - val_accuracy: 0.7593\n",
            "Epoch 10/20\n",
            "89/89 [==============================] - 42s 471ms/step - loss: 0.7783 - accuracy: 0.6910 - val_loss: 26.6254 - val_accuracy: 0.8333\n",
            "Epoch 11/20\n",
            "89/89 [==============================] - 44s 492ms/step - loss: 0.5652 - accuracy: 0.7978 - val_loss: 56.0080 - val_accuracy: 0.7778\n",
            "Epoch 12/20\n",
            "89/89 [==============================] - 41s 465ms/step - loss: 0.4650 - accuracy: 0.8539 - val_loss: 84.3955 - val_accuracy: 0.7963\n",
            "Epoch 13/20\n",
            "89/89 [==============================] - 41s 458ms/step - loss: 0.5079 - accuracy: 0.8090 - val_loss: 87.4332 - val_accuracy: 0.7778\n",
            "Epoch 14/20\n",
            "89/89 [==============================] - 42s 470ms/step - loss: 0.5065 - accuracy: 0.8034 - val_loss: 125.3514 - val_accuracy: 0.7037\n",
            "Epoch 15/20\n",
            "89/89 [==============================] - 38s 431ms/step - loss: 0.5715 - accuracy: 0.8090 - val_loss: 55.1590 - val_accuracy: 0.7407\n",
            "Epoch 16/20\n",
            "89/89 [==============================] - 35s 398ms/step - loss: 0.5158 - accuracy: 0.7978 - val_loss: 76.2705 - val_accuracy: 0.7593\n",
            "Epoch 17/20\n",
            "89/89 [==============================] - 38s 431ms/step - loss: 0.4189 - accuracy: 0.8371 - val_loss: 105.7676 - val_accuracy: 0.7407\n",
            "Epoch 18/20\n",
            "89/89 [==============================] - 34s 377ms/step - loss: 0.5121 - accuracy: 0.7921 - val_loss: 110.3798 - val_accuracy: 0.7407\n",
            "Epoch 19/20\n",
            "89/89 [==============================] - 32s 361ms/step - loss: 0.5003 - accuracy: 0.8034 - val_loss: 130.8443 - val_accuracy: 0.7037\n",
            "Epoch 20/20\n",
            "89/89 [==============================] - 34s 387ms/step - loss: 0.4547 - accuracy: 0.8483 - val_loss: 83.3915 - val_accuracy: 0.7593\n"
          ]
        },
        {
          "output_type": "execute_result",
          "data": {
            "text/plain": [
              "<keras.callbacks.History at 0x7f5814506950>"
            ]
          },
          "metadata": {},
          "execution_count": 17
        }
      ]
    },
    {
      "cell_type": "markdown",
      "source": [
        "## **save the model**"
      ],
      "metadata": {
        "id": "WzqZR1F2mqfV"
      }
    },
    {
      "cell_type": "code",
      "source": [
        "model.save('fruit.h5')"
      ],
      "metadata": {
        "id": "L5OU20SWmjwZ"
      },
      "execution_count": 18,
      "outputs": []
    },
    {
      "cell_type": "code",
      "source": [
        "model.summary()"
      ],
      "metadata": {
        "colab": {
          "base_uri": "https://localhost:8080/"
        },
        "id": "EyyZZwwZmyIh",
        "outputId": "d5a857c8-d9fe-4ef0-a603-deb9668dc924"
      },
      "execution_count": 19,
      "outputs": [
        {
          "output_type": "stream",
          "name": "stdout",
          "text": [
            "Model: \"sequential\"\n",
            "_________________________________________________________________\n",
            " Layer (type)                Output Shape              Param #   \n",
            "=================================================================\n",
            " conv2d (Conv2D)             (None, 126, 126, 32)      896       \n",
            "                                                                 \n",
            " max_pooling2d (MaxPooling2D  (None, 63, 63, 32)       0         \n",
            " )                                                               \n",
            "                                                                 \n",
            " flatten (Flatten)           (None, 127008)            0         \n",
            "                                                                 \n",
            " dense (Dense)               (None, 40)                5080360   \n",
            "                                                                 \n",
            " dense_1 (Dense)             (None, 20)                820       \n",
            "                                                                 \n",
            " dense_2 (Dense)             (None, 6)                 126       \n",
            "                                                                 \n",
            "=================================================================\n",
            "Total params: 5,082,202\n",
            "Trainable params: 5,082,202\n",
            "Non-trainable params: 0\n",
            "_________________________________________________________________\n"
          ]
        }
      ]
    }
  ]
}