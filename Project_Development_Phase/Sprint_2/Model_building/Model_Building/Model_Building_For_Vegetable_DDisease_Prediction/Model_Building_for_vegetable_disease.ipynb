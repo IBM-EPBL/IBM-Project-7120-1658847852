{
  "nbformat": 4,
  "nbformat_minor": 0,
  "metadata": {
    "colab": {
      "provenance": []
    },
    "kernelspec": {
      "name": "python3",
      "display_name": "Python 3"
    },
    "language_info": {
      "name": "python"
    }
  },
  "cells": [
    {
      "cell_type": "markdown",
      "source": [
        "\n",
        "## **Team ID : PNT2022TMID38633**\n",
        "\n",
        "## **Model building for vegetable disease**"
      ],
      "metadata": {
        "id": "wFNP4YVVxn-z"
      }
    },
    {
      "cell_type": "code",
      "source": [
        "from google.colab import drive\n",
        "drive.mount('/content/drive')"
      ],
      "metadata": {
        "colab": {
          "base_uri": "https://localhost:8080/"
        },
        "id": "b1MUDrqGyW2X",
        "outputId": "e29c6f98-fb1b-4705-eb6c-54b3a434348d"
      },
      "execution_count": 2,
      "outputs": [
        {
          "output_type": "stream",
          "name": "stdout",
          "text": [
            "Drive already mounted at /content/drive; to attempt to forcibly remount, call drive.mount(\"/content/drive\", force_remount=True).\n"
          ]
        }
      ]
    },
    {
      "cell_type": "code",
      "source": [
        "from keras.preprocessing.image import ImageDataGenerator\n",
        "train_datagen=ImageDataGenerator(rescale=1./255,shear_range=0.2,zoom_range=0.2,horizontal_flip=True)\n",
        "test_datagen=ImageDataGenerator(rescale=1)"
      ],
      "metadata": {
        "id": "9L-Mx7-fxnPs"
      },
      "execution_count": 1,
      "outputs": []
    },
    {
      "cell_type": "code",
      "source": [
        "x_train=train_datagen.flow_from_directory(r'/content/drive/MyDrive/Fertilizers_Recommendation_ System_For_Disease_ Prediction/Dataset Plant Disease/Veg-dataset/Veg-dataset/train_set',target_size=(128,128),batch_size=2,class_mode='categorical')\n",
        "x_test=test_datagen.flow_from_directory(r'/content/drive/MyDrive/Fertilizers_Recommendation_ System_For_Disease_ Prediction/Dataset Plant Disease/Veg-dataset/Veg-dataset/test_set',target_size=(128,128),batch_size=2,class_mode='categorical')"
      ],
      "metadata": {
        "id": "Skdy5pGEznHu",
        "outputId": "62150dd4-f2a8-46ac-9d18-f4dbb20c04e2",
        "colab": {
          "base_uri": "https://localhost:8080/"
        }
      },
      "execution_count": 4,
      "outputs": [
        {
          "output_type": "stream",
          "name": "stdout",
          "text": [
            "Found 11396 images belonging to 9 classes.\n",
            "Found 3426 images belonging to 9 classes.\n"
          ]
        }
      ]
    },
    {
      "cell_type": "code",
      "source": [
        "from keras.models import Sequential\n",
        "from keras.layers import Dense\n",
        "from keras.layers import Convolution2D\n",
        "from keras.layers import MaxPooling2D\n",
        "from keras.layers import Flatten"
      ],
      "metadata": {
        "id": "PgQTIXt_zrBQ"
      },
      "execution_count": 6,
      "outputs": []
    },
    {
      "cell_type": "code",
      "source": [
        "model=Sequential()"
      ],
      "metadata": {
        "id": "vjLBhLfZz7UI"
      },
      "execution_count": 7,
      "outputs": []
    },
    {
      "cell_type": "code",
      "source": [
        "model.add(Convolution2D(32,(3,3),input_shape=(128,128,3),activation='relu'))"
      ],
      "metadata": {
        "id": "zdzospzez_QZ"
      },
      "execution_count": 8,
      "outputs": []
    },
    {
      "cell_type": "code",
      "source": [
        "model.add(MaxPooling2D(pool_size=(2,2)))"
      ],
      "metadata": {
        "id": "6w3BI-pZ0FE0"
      },
      "execution_count": 9,
      "outputs": []
    },
    {
      "cell_type": "code",
      "source": [
        "model.add(Flatten())\n"
      ],
      "metadata": {
        "id": "62QXgyki0FoD"
      },
      "execution_count": 10,
      "outputs": []
    },
    {
      "cell_type": "code",
      "source": [
        "model.add(Dense(units=300,kernel_initializer='uniform',activation='relu'))"
      ],
      "metadata": {
        "id": "nxc5HywG0IhE"
      },
      "execution_count": 11,
      "outputs": []
    },
    {
      "cell_type": "code",
      "source": [
        "\n",
        "model.add(Dense(units=150,kernel_initializer='random_uniform',activation='relu'))"
      ],
      "metadata": {
        "id": "JsyfwQ0C0LpM"
      },
      "execution_count": 12,
      "outputs": []
    },
    {
      "cell_type": "code",
      "source": [
        "\n",
        "model.add(Dense(units=75,kernel_initializer='uniform',activation='relu'))"
      ],
      "metadata": {
        "id": "VEdi19As0N5V"
      },
      "execution_count": 13,
      "outputs": []
    },
    {
      "cell_type": "code",
      "source": [
        "model.add(Dense(units=9,kernel_initializer='uniform',activation='softmax'))"
      ],
      "metadata": {
        "id": "HdcUsAWo0QTa"
      },
      "execution_count": 14,
      "outputs": []
    },
    {
      "cell_type": "code",
      "source": [
        "model.compile(loss='categorical_crossentropy',optimizer=\"adam\",metrics=[\"accuracy\"])"
      ],
      "metadata": {
        "id": "2_Hh4zOQ0VKU"
      },
      "execution_count": 15,
      "outputs": []
    },
    {
      "cell_type": "code",
      "source": [
        "model.fit(x_train,steps_per_epoch=89,epochs=20,validation_data=x_test,validation_steps=27)"
      ],
      "metadata": {
        "id": "1oVtI6oW0bKo",
        "outputId": "d98f920a-45c9-4098-fab6-8978b1b9a45e",
        "colab": {
          "base_uri": "https://localhost:8080/"
        }
      },
      "execution_count": 16,
      "outputs": [
        {
          "output_type": "stream",
          "name": "stdout",
          "text": [
            "Epoch 1/20\n",
            "89/89 [==============================] - 44s 483ms/step - loss: 2.1498 - accuracy: 0.1685 - val_loss: 27.5783 - val_accuracy: 0.1852\n",
            "Epoch 2/20\n",
            "89/89 [==============================] - 43s 481ms/step - loss: 2.1074 - accuracy: 0.1854 - val_loss: 177.5715 - val_accuracy: 0.2037\n",
            "Epoch 3/20\n",
            "89/89 [==============================] - 42s 466ms/step - loss: 2.0657 - accuracy: 0.2191 - val_loss: 137.6955 - val_accuracy: 0.1296\n",
            "Epoch 4/20\n",
            "89/89 [==============================] - 50s 566ms/step - loss: 2.0864 - accuracy: 0.2191 - val_loss: 40.1423 - val_accuracy: 0.2222\n",
            "Epoch 5/20\n",
            "89/89 [==============================] - 41s 464ms/step - loss: 2.1094 - accuracy: 0.1292 - val_loss: 95.0940 - val_accuracy: 0.2407\n",
            "Epoch 6/20\n",
            "89/89 [==============================] - 42s 473ms/step - loss: 2.0664 - accuracy: 0.2360 - val_loss: 149.5258 - val_accuracy: 0.2222\n",
            "Epoch 7/20\n",
            "89/89 [==============================] - 40s 448ms/step - loss: 2.0361 - accuracy: 0.2191 - val_loss: 66.2122 - val_accuracy: 0.2778\n",
            "Epoch 8/20\n",
            "89/89 [==============================] - 41s 452ms/step - loss: 1.8591 - accuracy: 0.3371 - val_loss: 130.1694 - val_accuracy: 0.1296\n",
            "Epoch 9/20\n",
            "89/89 [==============================] - 42s 468ms/step - loss: 1.7878 - accuracy: 0.2809 - val_loss: 114.5639 - val_accuracy: 0.2778\n",
            "Epoch 10/20\n",
            "89/89 [==============================] - 40s 446ms/step - loss: 1.8288 - accuracy: 0.3090 - val_loss: 179.1915 - val_accuracy: 0.2222\n",
            "Epoch 11/20\n",
            "89/89 [==============================] - 41s 458ms/step - loss: 1.6628 - accuracy: 0.3539 - val_loss: 261.1307 - val_accuracy: 0.1852\n",
            "Epoch 12/20\n",
            "89/89 [==============================] - 41s 462ms/step - loss: 1.6547 - accuracy: 0.3764 - val_loss: 158.1602 - val_accuracy: 0.1852\n",
            "Epoch 13/20\n",
            "89/89 [==============================] - 39s 433ms/step - loss: 1.8176 - accuracy: 0.3371 - val_loss: 63.8744 - val_accuracy: 0.3704\n",
            "Epoch 14/20\n",
            "89/89 [==============================] - 39s 438ms/step - loss: 1.5186 - accuracy: 0.4438 - val_loss: 180.1965 - val_accuracy: 0.2778\n",
            "Epoch 15/20\n",
            "89/89 [==============================] - 39s 437ms/step - loss: 1.5470 - accuracy: 0.3652 - val_loss: 304.1994 - val_accuracy: 0.2963\n",
            "Epoch 16/20\n",
            "89/89 [==============================] - 40s 445ms/step - loss: 1.5181 - accuracy: 0.4719 - val_loss: 227.4678 - val_accuracy: 0.2778\n",
            "Epoch 17/20\n",
            "89/89 [==============================] - 43s 487ms/step - loss: 1.5932 - accuracy: 0.4438 - val_loss: 89.5096 - val_accuracy: 0.3889\n",
            "Epoch 18/20\n",
            "89/89 [==============================] - 37s 419ms/step - loss: 1.3421 - accuracy: 0.4944 - val_loss: 401.4307 - val_accuracy: 0.2778\n",
            "Epoch 19/20\n",
            "89/89 [==============================] - 38s 421ms/step - loss: 1.5528 - accuracy: 0.4663 - val_loss: 164.2391 - val_accuracy: 0.3333\n",
            "Epoch 20/20\n",
            "89/89 [==============================] - 38s 430ms/step - loss: 1.4177 - accuracy: 0.4607 - val_loss: 172.5504 - val_accuracy: 0.3704\n"
          ]
        },
        {
          "output_type": "execute_result",
          "data": {
            "text/plain": [
              "<keras.callbacks.History at 0x7fc1a7112510>"
            ]
          },
          "metadata": {},
          "execution_count": 16
        }
      ]
    },
    {
      "cell_type": "markdown",
      "source": [
        "## **save the model**"
      ],
      "metadata": {
        "id": "Cq3U88Jy0hBg"
      }
    },
    {
      "cell_type": "code",
      "source": [
        "model.save('vegetable.h5')"
      ],
      "metadata": {
        "id": "4RryEhQ20pF3"
      },
      "execution_count": 17,
      "outputs": []
    },
    {
      "cell_type": "code",
      "source": [
        "model.summary()"
      ],
      "metadata": {
        "id": "T-6UeV3-0vzM",
        "outputId": "69c4402d-87ae-4852-e4a1-d62dbec67a26",
        "colab": {
          "base_uri": "https://localhost:8080/"
        }
      },
      "execution_count": 18,
      "outputs": [
        {
          "output_type": "stream",
          "name": "stdout",
          "text": [
            "Model: \"sequential\"\n",
            "_________________________________________________________________\n",
            " Layer (type)                Output Shape              Param #   \n",
            "=================================================================\n",
            " conv2d (Conv2D)             (None, 126, 126, 32)      896       \n",
            "                                                                 \n",
            " max_pooling2d (MaxPooling2D  (None, 63, 63, 32)       0         \n",
            " )                                                               \n",
            "                                                                 \n",
            " flatten (Flatten)           (None, 127008)            0         \n",
            "                                                                 \n",
            " dense (Dense)               (None, 300)               38102700  \n",
            "                                                                 \n",
            " dense_1 (Dense)             (None, 150)               45150     \n",
            "                                                                 \n",
            " dense_2 (Dense)             (None, 75)                11325     \n",
            "                                                                 \n",
            " dense_3 (Dense)             (None, 9)                 684       \n",
            "                                                                 \n",
            "=================================================================\n",
            "Total params: 38,160,755\n",
            "Trainable params: 38,160,755\n",
            "Non-trainable params: 0\n",
            "_________________________________________________________________\n"
          ]
        }
      ]
    }
  ]
}